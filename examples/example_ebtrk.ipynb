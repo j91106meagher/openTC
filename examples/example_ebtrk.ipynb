{
 "cells": [
  {
   "cell_type": "code",
   "execution_count": 2,
   "metadata": {},
   "outputs": [
    {
     "name": "stdout",
     "output_type": "stream",
     "text": [
      "--2018-09-17 22:18:37--  http://rammb.cira.colostate.edu/research/tropical_cyclones/tc_extended_best_track_dataset/data/ebtrk_atlc_1988_2017.txt\n",
      "Resolving rammb.cira.colostate.edu (rammb.cira.colostate.edu)... 129.82.109.125\n",
      "Connecting to rammb.cira.colostate.edu (rammb.cira.colostate.edu)|129.82.109.125|:80... connected.\n",
      "HTTP request sent, awaiting response... 200 OK\n",
      "Length: 1475450 (1.4M) [text/plain]\n",
      "Saving to: ‘../data/ebtrk_atlc_1988_2017.txt’\n",
      "\n",
      "ebtrk_atlc_1988_201 100%[===================>]   1.41M   325KB/s    in 5.2s    \n",
      "\n",
      "2018-09-17 22:18:43 (278 KB/s) - ‘../data/ebtrk_atlc_1988_2017.txt’ saved [1475450/1475450]\n",
      "\n"
     ]
    }
   ],
   "source": [
    "!wget http://rammb.cira.colostate.edu/research/tropical_cyclones/tc_extended_best_track_dataset/data/ebtrk_atlc_1988_2017.txt -P ../data/\n"
   ]
  },
  {
   "cell_type": "code",
   "execution_count": null,
   "metadata": {},
   "outputs": [],
   "source": []
  }
 ],
 "metadata": {
  "kernelspec": {
   "display_name": "Python 3",
   "language": "python",
   "name": "python3"
  },
  "language_info": {
   "codemirror_mode": {
    "name": "ipython",
    "version": 3
   },
   "file_extension": ".py",
   "mimetype": "text/x-python",
   "name": "python",
   "nbconvert_exporter": "python",
   "pygments_lexer": "ipython3",
   "version": "3.6.5"
  }
 },
 "nbformat": 4,
 "nbformat_minor": 2
}
